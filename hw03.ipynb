{
 "cells": [
  {
   "cell_type": "markdown",
   "id": "97a792f9-e32d-4409-8db0-5e6cefd7d10a",
   "metadata": {},
   "source": [
    "## Задание 1.\n",
    "\n",
    "Вводится список чисел через пробел. Поменяйте в этом списке самое маленькое и самое большое число местами, н-р, список 4 2 6 3 7 5 должен превратиться в 4 7 6 3 2 5"
   ]
  },
  {
   "cell_type": "code",
   "execution_count": 1,
   "id": "ed6f2b58-0d49-48f9-8443-56ddbf1a395c",
   "metadata": {},
   "outputs": [
    {
     "name": "stdout",
     "output_type": "stream",
     "text": [
      "[4, 7, 6, 3, 2, 5]\n"
     ]
    }
   ],
   "source": [
    "arr = [int(x) for x in input().split()]\n",
    "min_n = min(arr)\n",
    "max_n = max(arr)\n",
    "i1 = arr.index(min_n)\n",
    "i2 = arr.index(max_n)\n",
    "arr[i1], arr[i2] = arr[i2], arr[i1]\n",
    "\n",
    "print(arr)"
   ]
  },
  {
   "cell_type": "markdown",
   "id": "f6cf0459-4d88-4fcd-8ef7-d505e5503f3d",
   "metadata": {},
   "source": [
    "## Задание 2. \n",
    "\n",
    "Вводится список (чего угодно, как угодно). Нужно все элементы поменять местами, н-р, список вида 1 2 3 4 5 превращается в 2 1 4 3 5. "
   ]
  },
  {
   "cell_type": "code",
   "execution_count": 3,
   "id": "5cfe6ac2-acfc-489d-9c17-dfb9c4704351",
   "metadata": {},
   "outputs": [
    {
     "name": "stdout",
     "output_type": "stream",
     "text": [
      "['r', 'e', 'y', 't']\n"
     ]
    }
   ],
   "source": [
    "arr = [x for x in input().split()]\n",
    "for i in range(1, len(arr), 2):\n",
    "    arr[i], arr[i - 1] = arr[i - 1], arr[i]\n",
    "    \n",
    "print(arr)"
   ]
  },
  {
   "cell_type": "markdown",
   "id": "9ba60057-d600-4878-b05d-2adada21b4bb",
   "metadata": {},
   "source": [
    "## Задание 3. \n",
    "\n",
    "Петя перешёл в другую школу. На уроке физкультуры ему понадобилось определить своё место в строю. Помогите ему это сделать.\n",
    "\n",
    "Программа получает на вход невозрастающую последовательность натуральных чисел, означающих рост каждого человека в строю. После этого вводится число X – рост Пети. Все числа во входных данных натуральные и не превышают 200.\n",
    "\n",
    "Выведите номер, под которым Петя должен встать в строй. Если в строю есть люди с одинаковым ростом, таким же, как у Пети, то он должен встать после них."
   ]
  },
  {
   "cell_type": "code",
   "execution_count": 43,
   "id": "a230e7a1-a059-4c08-b496-156934855d12",
   "metadata": {},
   "outputs": [
    {
     "name": "stdout",
     "output_type": "stream",
     "text": [
      "[6, 5, 1]\n",
      "3\n"
     ]
    }
   ],
   "source": [
    "heights = [int(x) for x in input().split()]\n",
    "x = int(input())\n",
    "heights.sort(reverse=True)\n",
    "\n",
    "for i in range(len(heights)):\n",
    "    if heights[i] == x:\n",
    "        pos = i + 1 + heights.count(heights[i])\n",
    "        break\n",
    "    elif heights[i] < x :\n",
    "        pos = i + 1\n",
    "        break\n",
    "\n",
    "print(pos)\n"
   ]
  },
  {
   "cell_type": "markdown",
   "id": "a103d53d-3682-470c-b469-6b10c1beba67",
   "metadata": {},
   "source": [
    "## Задание 4.\n",
    "\n",
    "Известно, что на доске 8х8 можно расставить 8 ферзей так, чтобы они не били друг друга. Вам дана расстановка 8 ферзей на доске, определите, есть ли среди них пара бьющих друг друга.\n",
    "Программа получает на вход восемь пар чисел, каждое число от 1 до 8 — координаты 8 ферзей. Если ферзи не бьют друг друга, выведите слово NO, иначе выведите YES."
   ]
  },
  {
   "cell_type": "code",
   "execution_count": 21,
   "id": "17332be5-7bec-476a-bf0b-b229a129ff67",
   "metadata": {},
   "outputs": [
    {
     "name": "stdout",
     "output_type": "stream",
     "text": [
      "[1, 2, 3, 4, 5, 6, 7, 8]\n",
      "[7, 4, 2, 8, 6, 1, 3, 5]\n",
      "NO\n"
     ]
    }
   ],
   "source": [
    "X = []\n",
    "Y = []\n",
    "for i in range (8):\n",
    "    x, y = int(input()), int(input())\n",
    "    X.append(x)\n",
    "    Y.append(y)\n",
    "\n",
    "print(X)\n",
    "print(Y)\n",
    "m = True\n",
    "for i in range(8):\n",
    "    for k in range(i + 1, 8):\n",
    "        if X[i] == X[k] or Y[i] == Y[k] or abs(X[i] - X[k]) == abs(Y[i] - Y[k]):\n",
    "            m = False\n",
    "    if not m:\n",
    "        print('YES')\n",
    "        break\n",
    "if m:\n",
    "    print('NO')\n",
    "\n",
    "        "
   ]
  },
  {
   "cell_type": "markdown",
   "id": "9451e6ee-1ed7-4d33-a6f3-baa2fcd72324",
   "metadata": {},
   "source": [
    "## Задание 5.\n",
    "\n",
    "Дан список. Удалите из списка все повторы, то есть, оставьте в списке каждый элемент только в одном экземпляре (остаться должно только первое появление элемента в списке). Программа не должна использовать дополнительную память: это означает, что нельзя пользоваться множествами и генераторами, можно только производить изменения в самом списке. "
   ]
  },
  {
   "cell_type": "code",
   "execution_count": 4,
   "id": "ef8c93f4-baee-4e7c-b5d9-05d0cabf3198",
   "metadata": {},
   "outputs": [
    {
     "name": "stdout",
     "output_type": "stream",
     "text": [
      "['1', '2', '3']\n"
     ]
    }
   ],
   "source": [
    "arr = [x for x in input().split()]\n",
    "count_el = 0\n",
    "\n",
    "for i in range(len(arr)):\n",
    "    if arr.index(arr[i]) == i:\n",
    "          count_el += 1\n",
    "\n",
    "count_el2 = 0\n",
    "\n",
    "for i in range(len(arr)):\n",
    "    if count_el2 <= count_el:\n",
    "        if arr.count(arr[i]) == 1 or (arr.index(arr[i]) == i and arr.count(arr[i]) >= 1):\n",
    "            arr[count_el2], arr[i] = arr[i], arr[count_el2]\n",
    "            count_el2 += 1\n",
    "    else:\n",
    "        break\n",
    "arr = arr[:count_el2]\n",
    "\n",
    "print(arr)"
   ]
  },
  {
   "cell_type": "markdown",
   "id": "30fa8c16-a47f-4175-8d9e-bdcc988f27aa",
   "metadata": {},
   "source": [
    "## Задание 6.\n",
    "\n",
    "На вход программе даётся число N и список. Удалите из списка все элементы, которые встречаются в нём ровно N раз. Программа не должна использовать дополнительную память."
   ]
  },
  {
   "cell_type": "code",
   "execution_count": 5,
   "id": "9762d31a-4152-49cd-85b7-a64ad4714ead",
   "metadata": {},
   "outputs": [
    {
     "name": "stdout",
     "output_type": "stream",
     "text": [
      "['3']\n"
     ]
    }
   ],
   "source": [
    "n = int(input())\n",
    "arr = [x for x in input().split()]\n",
    "\n",
    "for i in range(len(arr)):\n",
    "    if arr.count(arr[i]) == n:\n",
    "        ind = i\n",
    "        break\n",
    "\n",
    "num_n = ind\n",
    "\n",
    "for i in range(ind, len(arr)):\n",
    "    if arr.count(arr[i]) != n:\n",
    "        if arr.index(arr[i]) == i:\n",
    "            num_n += arr.count(arr[i])\n",
    "        a = arr[ind]\n",
    "        arr[ind], arr[i] = arr[i], arr[ind]\n",
    "        ind = arr.index(a)\n",
    "arr = arr[:num_n]\n",
    "\n",
    "print(arr)\n"
   ]
  },
  {
   "cell_type": "markdown",
   "id": "331960ba-44ec-4441-b3e1-1831fc9a210d",
   "metadata": {},
   "source": [
    "## \\* Задание 7. \n",
    "\n",
    "На вход программе даётся число X и список чисел. Удалите из списка все вхождения элемента X. Программа должна работать за линейное время. Программа не должна использовать дополнительную память. Код для проверки на линейность уже вписан (если меняете D с 10000 на 100000, время должно увеличиться не больше чем в 10 раз). Такую проверку можно использовать и в скрипте .py. filter использовать нельзя. "
   ]
  },
  {
   "cell_type": "code",
   "execution_count": 3,
   "id": "65ae1fb2-9f4e-4490-a220-4135e84d328e",
   "metadata": {},
   "outputs": [
    {
     "name": "stdout",
     "output_type": "stream",
     "text": [
      "0.3069334030151367\n",
      "[2, 2, 3, 4, 5, 6, 2, 2, 3, 4, 5, 6, 2, 2, 3, 4, 5, 6, 2, 2, 3, 4, 5, 6, 2, 2, 3, 4, 5, 6]\n"
     ]
    }
   ],
   "source": [
    "import time\n",
    "\n",
    "D = int(input())\n",
    "arr = [1, 2, 1, 2, 3, 4, 5, 6] * D\n",
    "N = int(input())\n",
    "\n",
    "t = time.time()\n",
    "ind = arr.index(N)\n",
    "for i in range(ind, len(arr)):\n",
    "    if arr[i] != N:\n",
    "        arr[i], arr[ind] = arr[ind], arr[i]\n",
    "        ind = arr.index(N)\n",
    "if arr.count(N) > 0:\n",
    "    arr = arr[:ind]\n",
    "    \n",
    "print(time.time() - t)\n",
    "print(arr[:30])"
   ]
  },
  {
   "cell_type": "markdown",
   "id": "d207a91f-57c6-4d13-9a57-80f8a411e0af",
   "metadata": {},
   "source": [
    "## \\* Задание 8.\n",
    "\n",
    "Решите задачу 5 за линейное время. Можно использовать дополнительную память. Для проверки можете использовать код в задаче 7."
   ]
  },
  {
   "cell_type": "code",
   "execution_count": 3,
   "id": "b4358ceb-5adc-46f8-897b-a89c1b37fff5",
   "metadata": {},
   "outputs": [
    {
     "name": "stdout",
     "output_type": "stream",
     "text": [
      "0.753230094909668\n",
      "[1, 2, 3, 4, 5, 6]\n"
     ]
    }
   ],
   "source": [
    "import time\n",
    "\n",
    "D = int(input())\n",
    "arr = [1, 2, 1, 2, 3, 4, 5, 6] * D\n",
    "\n",
    "t = time.time()\n",
    "count_el = 0\n",
    "for i in range(len(arr)):\n",
    "    if arr.index(arr[i]) == i:\n",
    "          count_el += 1\n",
    "count_el2 = 0\n",
    "for i in range(len(arr)):\n",
    "    if count_el2 <= count_el:\n",
    "        if arr.count(arr[i]) == 1 or (arr.index(arr[i]) == i and arr.count(arr[i]) >= 1):\n",
    "            arr[count_el2], arr[i] = arr[i], arr[count_el2]\n",
    "            count_el2 += 1\n",
    "    else:\n",
    "        break\n",
    "arr = arr[:count_el2]\n",
    "print(time.time() - t)\n",
    "print(arr)"
   ]
  },
  {
   "cell_type": "markdown",
   "id": "b5702a70-109c-4d80-9593-11d73152642d",
   "metadata": {},
   "source": [
    "## \\* Задание 9. \n",
    "\n",
    "Решите задачу 6 за линейное время. Можно использовать дополнительную память. "
   ]
  },
  {
   "cell_type": "code",
   "execution_count": 8,
   "id": "57049223-d95a-4d6f-a2e1-588d3d3f2571",
   "metadata": {},
   "outputs": [
    {
     "name": "stdout",
     "output_type": "stream",
     "text": [
      "0.8435449600219727\n",
      "[3, 2, 4, 2, 5, 6, 3, 4, 5, 2, 6, 2, 3, 4, 5, 6, 3, 2, 4, 2, 5, 6, 3, 4, 5, 2, 6, 2, 3, 4]\n"
     ]
    }
   ],
   "source": [
    "import time\n",
    "\n",
    "D = int(input())\n",
    "arr = [1, 2, 1, 2, 3, 4, 5, 6] * D\n",
    "n = int(input())\n",
    "\n",
    "t = time.time()\n",
    "for i in range(len(arr)):\n",
    "    if arr.count(arr[i]) == n:\n",
    "        ind = i\n",
    "        break\n",
    "num_n = ind\n",
    "for i in range(ind, len(arr)):\n",
    "    if arr.count(arr[i]) != n:\n",
    "        if arr.index(arr[i]) == i:\n",
    "            num_n += arr.count(arr[i])\n",
    "        a = arr[ind]\n",
    "        arr[ind], arr[i] = arr[i], arr[ind]\n",
    "        ind = arr.index(a)\n",
    "arr = arr[:num_n]\n",
    "print(time.time() - t)\n",
    "print(arr[:30])"
   ]
  },
  {
   "cell_type": "markdown",
   "id": "caece3be-f46a-4db2-af15-5ca77a74fc00",
   "metadata": {},
   "source": [
    "## Задание 10. \n",
    "\n",
    "Напишите функцию, которая принимает строчку и возвращает порядковые номера всех букв в этой строчке в виде списка (напоминаю, что порядковый номер буквы в юникоде возвращает ord('c')). "
   ]
  },
  {
   "cell_type": "code",
   "execution_count": 24,
   "id": "81629280-20ec-40e2-87f9-39825830661c",
   "metadata": {},
   "outputs": [
    {
     "name": "stdout",
     "output_type": "stream",
     "text": [
      "[104, 101, 108, 108, 111]\n"
     ]
    }
   ],
   "source": [
    "def ordinal(x):\n",
    "    A = []\n",
    "    for elem in s:\n",
    "        A.append(ord(elem))\n",
    "    return A\n",
    "\n",
    "s = input()\n",
    "print(ordinal(s))"
   ]
  }
 ],
 "metadata": {
  "kernelspec": {
   "display_name": "Python 3 (ipykernel)",
   "language": "python",
   "name": "python3"
  },
  "language_info": {
   "codemirror_mode": {
    "name": "ipython",
    "version": 3
   },
   "file_extension": ".py",
   "mimetype": "text/x-python",
   "name": "python",
   "nbconvert_exporter": "python",
   "pygments_lexer": "ipython3",
   "version": "3.9.7"
  }
 },
 "nbformat": 4,
 "nbformat_minor": 5
}
