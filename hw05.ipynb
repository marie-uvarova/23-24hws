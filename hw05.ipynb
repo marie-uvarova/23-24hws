{
 "cells": [
  {
   "cell_type": "markdown",
   "id": "e7fd4f2d-fa5c-4975-aee1-dbd36df06161",
   "metadata": {
    "tags": []
   },
   "source": [
    "#### Задача 1. \n",
    "\n",
    "Соберем свой математический модуль: \n",
    "\n",
    "- напишите функции для вычисления формул, собранных [здесь](http://mathprofi.ru/formuly_kombinatoriki.pdf): нас интересуют сам факториал и формулы количества. Сохраните это все в модуле combinatorics.py.\n",
    "- напишите функции для вычисления площадей геометрических фигур: прямоугольника, квадрата, треугольника и шара. Сохраните их в файл areas.py.\n",
    "- положите оба файла в папку с именем вашего модуля. Создайте файл \\_\\_init\\_\\_.py.\n",
    "- импортируйте все написанные модули в новый файл py, в котором пользователю будет предлагаться выбрать, нужна ли ему комбинаторика или геометрия, и потом какая функция ему нужна. \n",
    "- при запуске одного из подмодулей combinatorics & areas самих по себе должно вылезать предупреждение о том, что нужно запустить головной файл (с выбором). \n",
    "- при импортировании \n",
    "\n",
    "        from <my math> import * \n",
    "        \n",
    "    должны импортироваться оба подмодуля. "
   ]
  },
  {
   "cell_type": "markdown",
   "id": "ff5eb064-44a2-45c2-9647-97adae92346a",
   "metadata": {},
   "source": [
    "#### Задача 2. \n",
    "\n",
    "Изучите содержимое файла Maths.csv: выведите первые пять его строк с помощью модуля csv, напечатайте отдельно в столбик названия колонок. "
   ]
  },
  {
   "cell_type": "code",
   "execution_count": null,
   "id": "a0129226-63d3-4d7d-b71b-40c382ee8b82",
   "metadata": {},
   "outputs": [],
   "source": [
    "# your code here"
   ]
  }
 ],
 "metadata": {
  "kernelspec": {
   "display_name": "Python 3 (ipykernel)",
   "language": "python",
   "name": "python3"
  },
  "language_info": {
   "codemirror_mode": {
    "name": "ipython",
    "version": 3
   },
   "file_extension": ".py",
   "mimetype": "text/x-python",
   "name": "python",
   "nbconvert_exporter": "python",
   "pygments_lexer": "ipython3",
   "version": "3.9.12"
  }
 },
 "nbformat": 4,
 "nbformat_minor": 5
}
