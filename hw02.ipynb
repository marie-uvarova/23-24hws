{
 "cells": [
  {
   "cell_type": "markdown",
   "id": "9fd2890d-cfdc-4c4f-abbf-9475fd88a67b",
   "metadata": {},
   "source": [
    "#### Задача 1. \n",
    "\n",
    "Пользователь вводит с клавиатуры какие-то числа (необходимо считывать их в цикле), пока не введет ноль. Нужно посчитать стандартное отклонение по формуле из [википедии](https://ru.wikipedia.org/wiki/%D0%A1%D1%80%D0%B5%D0%B4%D0%BD%D0%B5%D0%BA%D0%B2%D0%B0%D0%B4%D1%80%D0%B0%D1%82%D0%B8%D1%87%D0%B5%D1%81%D0%BA%D0%BE%D0%B5_%D0%BE%D1%82%D0%BA%D0%BB%D0%BE%D0%BD%D0%B5%D0%BD%D0%B8%D0%B5). Списками пользоваться нельзя. \n",
    "\n",
    "Подсказка: нужно преобразовать формулу. "
   ]
  },
  {
   "cell_type": "code",
   "execution_count": 9,
   "id": "54a5311f-b608-413c-ad00-bf837a232192",
   "metadata": {},
   "outputs": [
    {
     "name": "stdout",
     "output_type": "stream",
     "text": [
      "15\n",
      "250\n",
      "7.0710678118654755\n"
     ]
    }
   ],
   "source": [
    "x = int(input())\n",
    "sum = 0\n",
    "count = 0\n",
    "square = 0\n",
    "while x != 0:\n",
    "    sum += x\n",
    "    count += 1\n",
    "    square += x ** 2\n",
    "    x = int(input())\n",
    "average = sum // count\n",
    "square_ave = (average ** 2) * count\n",
    "sq_x = 2 * sum * average\n",
    "form = ((square - sq_x + square_ave) // count) ** 0.5\n",
    "print(form)"
   ]
  },
  {
   "cell_type": "markdown",
   "id": "9917cdc9-d739-4eca-8405-b9f640df483d",
   "metadata": {},
   "source": [
    "#### Задача 2. \n",
    "\n",
    "Пользователь вводит какие-то целые числа в бесконечном цикле, пока не введет ноль; программа должна выводить введенное число и согласовать с ним слово \"кролик\", например, \n",
    "    \n",
    "    1 кролик\n",
    "    2 кролика\n",
    "    11 кроликов\n",
    "    123 кролика\n",
    "    ...\n",
    " "
   ]
  },
  {
   "cell_type": "code",
   "execution_count": 5,
   "id": "dece8eac-10c9-4d12-9018-852058950448",
   "metadata": {},
   "outputs": [
    {
     "name": "stdout",
     "output_type": "stream",
     "text": [
      "12 кроликов\n",
      "14 кроликов\n",
      "21 кролик\n"
     ]
    }
   ],
   "source": [
    "x = int(input())\n",
    "sum = 0\n",
    "count = 0\n",
    "while x != 0:\n",
    "    if int(str(x)[-1]) == 0 or 5 <= int(str(x)[-1]) <= 9 or 11 <= x <= 19:\n",
    "        print(f'{x} кроликов')\n",
    "    elif int(str(x)[-1]) == 1:\n",
    "        print(f'{x} кролик')\n",
    "    else:\n",
    "        print(f'{x} кролика')\n",
    "    x = int(input())"
   ]
  },
  {
   "cell_type": "markdown",
   "id": "d897375c-c557-4f2c-87b1-e88e2104ec72",
   "metadata": {},
   "source": [
    "#### Задача 3. \n",
    "\n",
    "Пользователь вводит целые (не обязательно положительные) числа. Программа должна вывести самое большое введенное число."
   ]
  },
  {
   "cell_type": "code",
   "execution_count": 11,
   "id": "8eaf6c30-5e08-4f7b-a9b2-7a6074bf9900",
   "metadata": {},
   "outputs": [
    {
     "name": "stdout",
     "output_type": "stream",
     "text": [
      "20\n"
     ]
    }
   ],
   "source": [
    "n = [int(x) for x in input().split()]\n",
    "print(max(n))"
   ]
  },
  {
   "cell_type": "markdown",
   "id": "affef4de-70ab-4827-98fd-980f64b6cb31",
   "metadata": {},
   "source": [
    "#### Задача 4. \n",
    "\n",
    "Пользователь вводит с клавиатуры в бесконечном цикле разные вещи. Если он ввел целое число, нужно его возвести в квадрат; если он ввел слово, нужно вывести это слово в верхнем регистре; если он ввел любое количество пробельных символов, цикл завершается. "
   ]
  },
  {
   "cell_type": "code",
   "execution_count": 14,
   "id": "16aee851-baa0-4fe5-8307-a8f70185b761",
   "metadata": {},
   "outputs": [
    {
     "name": "stdout",
     "output_type": "stream",
     "text": [
      "25\n",
      "1296\n",
      "GHJK\n"
     ]
    }
   ],
   "source": [
    "x = input()\n",
    "while x.count(' ') != len(x):\n",
    "    if x.isdigit():\n",
    "        print(int(x) ** 2)\n",
    "    elif x.isalpha():\n",
    "        print(x.upper())\n",
    "    x = input()"
   ]
  },
  {
   "cell_type": "markdown",
   "id": "1eb790b8-9c54-4be8-b747-bc03a10add17",
   "metadata": {},
   "source": [
    "#### Задача 5. \n",
    "\n",
    "Программа загадывает число от 1 до 1023. Игрок пытается угадать это число, и у него есть 10 попыток. Если игрок вводит загаданное число, программа поздравляет его и заканчивает работу. Иначе программа должна напечатать, введённое число больше или меньше загаданного. Если все 10 попыток неудачны - программа должна написать, что попытки кончились, вывести загаданное число, и предложить сыграть в игру заново (при этом число должно быть загадано другое). Если пользователь вводит число меньше, чем 1, или больше, чем 1023, программа должна об этом сообщить - но не засчитывать попытку (т.е., это не считается неудачной попыткой).\n",
    "\n",
    "**Ответьте на вопрос**: готовы ли вы ручаться, что угадаете загаданное число за эти 10 попыток?\n",
    "\n",
    "Чтобы загадать рандомное число, нужно использовать функцию randint() из внешнего модуля random. "
   ]
  },
  {
   "cell_type": "code",
   "execution_count": 3,
   "id": "e7f0c14f-d805-41bc-8ae1-ff149e1f477b",
   "metadata": {},
   "outputs": [
    {
     "name": "stdout",
     "output_type": "stream",
     "text": [
      "Try smaller.\n",
      "Try smaller.\n",
      "Try smaller.\n",
      "Try smaller.\n",
      "Try bigger.\n",
      "Try smaller.\n",
      "Congratulations! You win.\n"
     ]
    }
   ],
   "source": [
    "from random import randint\n",
    "\n",
    "num = randint(1, 1023)\n",
    "count = 0\n",
    "x = int(input())\n",
    "while count != 11:\n",
    "    if x == num:\n",
    "        print('Congratulations! You win.')\n",
    "        count = 11\n",
    "    elif x > num:\n",
    "        count += 1\n",
    "        print('Try smaller.')\n",
    "        x = int(input())\n",
    "    elif x < num:\n",
    "        count += 1\n",
    "        print('Try bigger.')\n",
    "        x = int(input())\n",
    "    elif x > 1023 or x < 1:\n",
    "        print('NO! Enter the number in the range from 1 to 1023.')\n",
    "        x = int(input())\n",
    "    elif count == 11:\n",
    "        print('Haha! You lose. Do you want to try again?')\n",
    "        ans = input()\n",
    "        if ans.lower().count('yes') > 0:\n",
    "            count = 0\n",
    "        else:\n",
    "            count = 11 \n",
    "#да. 1024 = 2 ** 10, выигрышная стратегия - идти по степеням двойки. 512 +- 256 +- 128 +- 64 и т. д. в худшем случае на 9 попытке мы добавляем/вычитаем 2 и на 10 выводим правильный ответ.\n",
    "    \n"
   ]
  },
  {
   "cell_type": "markdown",
   "id": "b792d84a-e9e3-4ff2-a344-bdde490dcd7e",
   "metadata": {},
   "source": [
    "#### Задача 6. \n",
    "\n",
    "Правильные скобки. На вход подается строка, которая содержит только и исключительно скобки трех видов: круглые, квадратные и фигурные. Например, '{[([({})])]}'. Ваша задача - написать программу, которая бы проверяла правильность последовательности скобок и возвращала True или False. Примеры правильных и неправильных строк:\n",
    "\n",
    "    '[(])' = False\n",
    "    ')[](' = False\n",
    "    '{[()]}' = True"
   ]
  },
  {
   "cell_type": "code",
   "execution_count": 18,
   "id": "64c2a9da-01bb-42a5-8e79-d1b5b1e0094c",
   "metadata": {},
   "outputs": [
    {
     "name": "stdout",
     "output_type": "stream",
     "text": [
      "False\n",
      "True\n"
     ]
    }
   ],
   "source": [
    "brakes = input()\n",
    "\n",
    "if len(brakes) % 2 != 0:\n",
    "    print(False)\n",
    "else:\n",
    "    for i in range(len(brakes) // 2):\n",
    "        if ord(brakes[i]) - ord(brakes[len(brakes) - 1 - i]) > 3 or ord(brakes[i]) - ord(brakes[len(brakes) - 1 - i]) == 0:\n",
    "            print(False)\n",
    "        else:\n",
    "            print(True)\n"
   ]
  },
  {
   "cell_type": "markdown",
   "id": "8d9c917a-1b96-43cc-9523-f12ee8bf13e2",
   "metadata": {},
   "source": [
    "#### Задача 7. \n",
    "\n",
    "Занудная: выведите с помощью цикла порядковые номера всех букв русского алфавита (ё можно отдельно), заглавных и строчных. Посмотрите, есть ли между ними что-нибудь. \n",
    "\n",
    "А для латинских?"
   ]
  },
  {
   "cell_type": "code",
   "execution_count": 9,
   "id": "040d8f3f-2c20-4a21-b00f-a8547103be17",
   "metadata": {},
   "outputs": [
    {
     "name": "stdout",
     "output_type": "stream",
     "text": [
      "1040 1041 1042 1043 1044 1045 1025 1046 1047 1048 1049 1050 1062 1063 1064 1065 1066 1067 1068 1069 1070 1071 1072 1073 1074 1075 1076 1077 1105 1078 1079 1080 1081 1082 1083 1084 1085 1086 1087 1088 1089 1090 1091 1092 1093 1094 1095 1096 1097 1098 1099 1100 1101 1102 1103 \n",
      "Ђ\n",
      "Ѓ\n",
      "65 66 67 68 69 70 71 72 73 74 75 76 77 78 79 80 81 82 83 84 85 86 87 88 89 90 97 98 99 100 101 102 103 104 105 106 107 108 109 110 111 112 113 114 115 116 117 118 119 120 121 122 "
     ]
    }
   ],
   "source": [
    "alph = 'АБВГДЕЁЖЗИЙКЦЧШЩЪЫЬЭЮЯабвгдеёжзийклмнопрстуфхцчшщъыьэюя'\n",
    "for elem in alph:\n",
    "    print(f'{ord(elem)}', end=' ')\n",
    "print(end='\\n')\n",
    "print(chr(1026))\n",
    "print(chr(1027))\n",
    "\n",
    "abc = 'ABCDEFGHIJKLMNOPQRSTUVWXYZabcdefghijklmnopqrstuvwxyz'\n",
    "for elem in abc:\n",
    "    print(f'{ord(elem)}', end=' ')\n"
   ]
  },
  {
   "cell_type": "markdown",
   "id": "281a8b4e-9e28-4467-a52e-61ca6c73597e",
   "metadata": {},
   "source": [
    "#### Задача 8. \n",
    "\n",
    "Шифр Цезаря: самый простой способ зашифровать текст - это сопоставить буквы алфавита со сдвигом, то есть, например, со сдвигом 2 - заменить все а на в, б на г, в на е и так далее. Подробнее есть в [Википедии](https://ru.wikipedia.org/wiki/%D0%A8%D0%B8%D1%84%D1%80_%D0%A6%D0%B5%D0%B7%D0%B0%D1%80%D1%8F), конечно же, а еще можно поиграться с ним [здесь](https://planetcalc.ru/1434/). Напишите программу, которая будет принимать строчку, зашифрованную таким шифром (с неизвестным сдвигом), и пытаться расшифровать ее. "
   ]
  },
  {
   "cell_type": "code",
   "execution_count": 14,
   "id": "71ff4c19-941f-4037-9798-fdaf2feffb08",
   "metadata": {},
   "outputs": [
    {
     "name": "stdout",
     "output_type": "stream",
     "text": [
      "m hs rsx pmoi ettpiw\n",
      "Is this correct?\n",
      "l gr qrw olnh dssohv\n",
      "Is this correct?\n",
      "k fq pqv nkmg crrngu\n",
      "Is this correct?\n",
      "j ep opu mjlf bqqmft\n",
      "Is this correct?\n",
      "i do not like apples\n"
     ]
    }
   ],
   "source": [
    "from string import punctuation\n",
    "\n",
    "encrypted = input()\n",
    "for elem in punctuation:\n",
    "    encrypted = encrypted.replace(elem, '')\n",
    "encrypted = encrypted.lower()\n",
    "print(encrypted)\n",
    "\n",
    "arr = []\n",
    "ans = ''\n",
    "shift = 1\n",
    "for elem in encrypted.lower():\n",
    "    if elem != ' ':\n",
    "        arr.append(ord(elem))\n",
    "    else:\n",
    "        arr.append(' ')\n",
    "while ans != 'yes':\n",
    "    decrypted = ''\n",
    "    for elem in arr:\n",
    "        if elem != ' ':\n",
    "            decrypted += chr(elem - shift)\n",
    "        else:\n",
    "            decrypted += ' '\n",
    "    print('Is this correct?')\n",
    "    print(decrypted)\n",
    "    ans = input()\n",
    "    shift += 1"
   ]
  }
 ],
 "metadata": {
  "kernelspec": {
   "display_name": "Python 3 (ipykernel)",
   "language": "python",
   "name": "python3"
  },
  "language_info": {
   "codemirror_mode": {
    "name": "ipython",
    "version": 3
   },
   "file_extension": ".py",
   "mimetype": "text/x-python",
   "name": "python",
   "nbconvert_exporter": "python",
   "pygments_lexer": "ipython3",
   "version": "3.9.7"
  }
 },
 "nbformat": 4,
 "nbformat_minor": 5
}
