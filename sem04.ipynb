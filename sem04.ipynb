{
 "cells": [
  {
   "cell_type": "markdown",
   "id": "012b6176-02b0-4183-8d8c-92adc4be4c5a",
   "metadata": {},
   "source": [
    "#### Задача 1. \n",
    "\n",
    "Даны четыре действительных числа: x1, y1, x2, y2. Напишите функцию distance(x1, y1, x2, y2), вычисляющая расстояние между точкой (x1, y1) и (x2, y2). Считайте четыре действительных числа и выведите результат работы этой функции."
   ]
  },
  {
   "cell_type": "code",
   "execution_count": 1,
   "id": "7f2ff57d-516a-409c-aee8-4dd64aeb5937",
   "metadata": {},
   "outputs": [
    {
     "name": "stdout",
     "output_type": "stream",
     "text": [
      "7.0710678118654755\n"
     ]
    }
   ],
   "source": [
    "def distance(x1, y1, x2, y2):\n",
    "    return ((x2 - x1) ** 2 + (y2 - y1) ** 2) ** 0.5\n",
    "\n",
    "x1 = float(input())\n",
    "y1 = float(input())\n",
    "x2 = float(input())\n",
    "y2 = float(input())\n",
    "print(distance(x1, y1, x2, y2))"
   ]
  },
  {
   "cell_type": "markdown",
   "id": "65de4b70",
   "metadata": {},
   "source": [
    "#### Задача 2. \n",
    "\n",
    "Дана последовательность целых чисел, заканчивающаяся числом 0. Выведите эту последовательность в обратном порядке.\n",
    "При решении этой задачи нельзя пользоваться массивами и прочими динамическими структурами данных. Рекурсия вам поможет."
   ]
  },
  {
   "cell_type": "code",
   "execution_count": 7,
   "id": "b8fbf8ed-5d1d-4c7d-914c-25194e142c45",
   "metadata": {},
   "outputs": [
    {
     "name": "stdout",
     "output_type": "stream",
     "text": [
      "(0, 3, 2)\n"
     ]
    }
   ],
   "source": [
    "def rvrsd(t):\n",
    "    if t[0] == 0:\n",
    "        return t\n",
    "    else:\n",
    "        return rvrsd(t[1:]) + (t[0],)\n",
    "       \n",
    "\n",
    "nums = tuple(int(x) for x in input().split())\n",
    "print(rvrsd(nums))"
   ]
  },
  {
   "cell_type": "markdown",
   "id": "a2bdf0da-7671-4835-b037-aa3db0c86e1b",
   "metadata": {},
   "source": [
    "#### Задача 3. \n",
    "\n",
    "Напишите генераторную функцию, которая будет принимать строку с каким-нибудь длинным предложением и возвращать по одному слову из этого предложения в верхнем регистре. "
   ]
  },
  {
   "cell_type": "code",
   "execution_count": 13,
   "id": "47980b5b-6c31-4dfa-96b1-57d230bb42e3",
   "metadata": {},
   "outputs": [
    {
     "name": "stdout",
     "output_type": "stream",
     "text": [
      "I WANT TO READ A BOOK "
     ]
    }
   ],
   "source": [
    "def one_w_up(s):\n",
    "    a = s.split()\n",
    "    for elem in a:\n",
    "        yield elem.upper()\n",
    "\n",
    "s = input()\n",
    "for i in one_w_up(s):\n",
    "    print(i, end=' ')"
   ]
  },
  {
   "cell_type": "markdown",
   "id": "a51551eb-1d88-4d2a-a7a1-1e14dc713882",
   "metadata": {},
   "source": [
    "#### Задача 4 (\\*). \n",
    "\n",
    "Дан список кортежей, в каждом из которых по два элемента (можно считать его с клавиатуры в цикле while, вводя кортежи парами через пробел). Превратите его в два кортежа, чтобы в первом были только элементы с нулевым индексом, а во втором - с первым. То есть:\n",
    "\n",
    "    [(1, 'a'), (2, 'b')] \n",
    "    должно превратиться в \n",
    "    (1, 2), ('a', 'b')\n",
    "\n",
    "Цикл можно использовать только для считывания с клавиатуры исходного списка. "
   ]
  },
  {
   "cell_type": "code",
   "execution_count": 4,
   "id": "92077563-d5e7-4de2-b147-31a15126cb04",
   "metadata": {},
   "outputs": [
    {
     "name": "stdout",
     "output_type": "stream",
     "text": [
      "(1, 2, 3) ('a', 'b', 'c')\n"
     ]
    }
   ],
   "source": [
    "t = tuple(int(x) if x.isdigit() else x for x in input().split())\n",
    "arr = []\n",
    "t1 = tuple()\n",
    "t2 = tuple()\n",
    "\n",
    "while t[0] != 0:\n",
    "    arr.append(t)\n",
    "    t = tuple(int(x) if x.isdigit() else x for x in input().split())\n",
    "\n",
    "for elem in arr:\n",
    "    t1 += (elem[0], )\n",
    "    t2 += (elem[1], )\n",
    "\n",
    "print(t1, t2)"
   ]
  },
  {
   "cell_type": "markdown",
   "id": "57542689-78e6-4282-b831-722e81a53b8b",
   "metadata": {},
   "source": [
    "#### Задача 5. \n",
    "\n",
    "Дан список слов (можно считать его через одну строку с помощью split()). Без циклов верните список, состоящий из длин этих слов. "
   ]
  },
  {
   "cell_type": "code",
   "execution_count": 15,
   "id": "bca626a6-7644-49f5-83e6-cdbb882aeffa",
   "metadata": {},
   "outputs": [
    {
     "name": "stdout",
     "output_type": "stream",
     "text": [
      "['i', 'want', 'to', 'read', 'a', 'book']\n",
      "[1, 4, 2, 4, 1, 4]\n"
     ]
    }
   ],
   "source": [
    "s = input().split()\n",
    "print(s)\n",
    "print(list([len(x) for x in s]))"
   ]
  },
  {
   "cell_type": "markdown",
   "id": "7dbaf89c-2f9c-49b2-ab54-9149c5452565",
   "metadata": {},
   "source": [
    "#### Задача 6. \n",
    "\n",
    "Соберите множество всех кириллических букв любым способом (либо с использованием функций ord() и char(), либо с использованием строк). "
   ]
  },
  {
   "cell_type": "code",
   "execution_count": 20,
   "id": "bb4a40ea-e105-4d0c-b28a-cb0ad1434dca",
   "metadata": {},
   "outputs": [
    {
     "name": "stdout",
     "output_type": "stream",
     "text": [
      "{'Р', 'ш', 'Й', 'п', 'О', 'к', 'Я', 'Ё', 'Ы', 'з', 'Х', 'щ', 'К', 'Ю', 'ё', 'т', 'Е', 'г', 'е', 'в', 'Н', 'х', 'Т', 'Ш', 'й', 'ъ', 'П', 'З', 'Ж', 'л', 'И', 'Ь', 'ь', 'ж', 'м', 'Л', 'А', 'ы', 'В', 'У', 'Щ', 'и', 'ю', 'Ц', 'Ч', 'Ъ', 'ф', 'ч', 'а', 'Э', 'б', 'д', 'о', 'р', 'у', 'Б', 'с', 'М', 'ц', 'С', 'э', 'я', 'Г', 'Д', 'Ф', 'н'}\n"
     ]
    }
   ],
   "source": [
    "cyr = set()\n",
    "for i in range(1040, 1104):\n",
    "    cyr.add(chr(i))\n",
    "cyr.add('ё')\n",
    "cyr.add('Ё')\n",
    "print(cyr)"
   ]
  },
  {
   "cell_type": "markdown",
   "id": "f58c1d07-8c62-49ac-ae2b-bc3ba1fd70bf",
   "metadata": {},
   "source": [
    "#### Задача 7. \n",
    "\n",
    "Воспользуйтесь собранным множеством букв из задачи 2 и напишите функцию, которая будет проверять строку на то, является ли она кириллическим словом. Отфильтруйте список, состоящий из слов, с помощью этой функции таким образом, чтобы остались только кириллические слова. "
   ]
  },
  {
   "cell_type": "code",
   "execution_count": 46,
   "id": "aa727129-530d-4ef6-b3c2-eb81298c928d",
   "metadata": {},
   "outputs": [
    {
     "name": "stdout",
     "output_type": "stream",
     "text": [
      "['хочу', 'спать']\n"
     ]
    }
   ],
   "source": [
    "def iscyr(s):\n",
    "    wrds = set()\n",
    "    for i in range(len(s)):\n",
    "        for letter in s[i]:\n",
    "           if letter not in cyr:\n",
    "               wrds.add(s[i])\n",
    "               break\n",
    "    return wrds \n",
    "\n",
    "\n",
    "s = input().split()\n",
    "print(list(filter(lambda x: x not in iscyr(s), s)))"
   ]
  },
  {
   "cell_type": "markdown",
   "id": "1ba73d33-e4bd-498f-9866-66bbb068d324",
   "metadata": {},
   "source": [
    "#### Задача 8. \n",
    "\n",
    "Даны два списка чисел. Найдите все числа, которые входят как в первый, так и во второй список, и выведите их в порядке возрастания."
   ]
  },
  {
   "cell_type": "code",
   "execution_count": 49,
   "id": "86aa879c-1d08-4f46-9413-6905c03157ff",
   "metadata": {},
   "outputs": [
    {
     "name": "stdout",
     "output_type": "stream",
     "text": [
      "['1', '5']\n"
     ]
    }
   ],
   "source": [
    "a1 = set([x for x in input().split()])\n",
    "a2 = set([x for x in input().split()])\n",
    "print(sorted(list(a1.intersection(a2))))\n",
    "\n"
   ]
  },
  {
   "cell_type": "markdown",
   "id": "f60e2401-7d51-49fb-bb28-8a231f5c6987",
   "metadata": {},
   "source": [
    "#### Задача 9. \n",
    "\n",
    "Напишите функцию lexdiv(), которая считает лексическое разнообразие в тексте. Лексическое разноообразие - это количество уникальных слов, поделенное на количество всех слов в тексте. Посчитайте лексическое разнообразие для любого англоязычного и русскоязычного текста примерно одинаковой длины.\n",
    "\n",
    "Текст можно задать прямо в коде с помощью тройных кавычек. "
   ]
  },
  {
   "cell_type": "code",
   "execution_count": 51,
   "id": "f5b7a998-d3fd-4f2d-910e-9d4165d01f98",
   "metadata": {},
   "outputs": [
    {
     "name": "stdout",
     "output_type": "stream",
     "text": [
      "0.7509157509157509 0.6657223796033994\n"
     ]
    }
   ],
   "source": [
    "from string import punctuation\n",
    "\n",
    "def tokenize(s):\n",
    "    for elem in punctuation:\n",
    "        s.replace(elem, '')\n",
    "    s = s.lower()\n",
    "    s = s.split()\n",
    "    return s\n",
    "\n",
    "def lexdiv(txt):\n",
    "    unique = set(txt)\n",
    "    return len(unique) / len(txt)\n",
    "\n",
    "rus_txt = ''' Однажды весною, в час небывало жаркого заката, в Москве, на Патриарших прудах, появились два гражданина. Первый из них, одетый в летнюю серенькую пару, был маленького роста, упитан, лыс, свою приличную шляпу пирожком нес в руке, а на хорошо выбритом лице его помещались сверхъестественных размеров очки в черной роговой оправе. Второй – плечистый, рыжеватый, вихрастый молодой человек в заломленной на затылок клетчатой кепке – был в ковбойке, жеваных белых брюках и в черных тапочках.\n",
    "\n",
    "Первый был не кто иной, как Михаил Александрович Берлиоз, председатель правления одной из крупнейших московских литературных ассоциаций, сокращенно именуемой МАССОЛИТ, и редактор толстого художественного журнала, а молодой спутник его – поэт Иван Николаевич Понырев, пишущий под псевдонимом Бездомный.\n",
    "\n",
    "Попав в тень чуть зеленеющих лип, писатели первым долгом бросились к пестро раскрашенной будочке с надписью «Пиво и воды».\n",
    "\n",
    "Да, следует отметить первую странность этого страшного майского вечера. Не только у будочки, но и во всей аллее, параллельной Малой Бронной улице, не оказалось ни одного человека. В тот час, когда уж, кажется, и сил не было дышать, когда солнце, раскалив Москву, в сухом тумане валилось куда-то за Садовое кольцо, – никто не пришел под липы, никто не сел на скамейку, пуста была аллея.\n",
    "\n",
    "– Дайте нарзану, – попросил Берлиоз.\n",
    "\n",
    "– Нарзану нету, – ответила женщина в будочке и почему-то обиделась.\n",
    "\n",
    "– Пиво есть? – сиплым голосом осведомился Бездомный.\n",
    "\n",
    "– Пиво привезут к вечеру, – ответила женщина.\n",
    "\n",
    "– А что есть? – спросил Берлиоз.\n",
    "\n",
    "– Абрикосовая, только теплая, – сказала женщина.\n",
    "\n",
    "– Ну, давайте, давайте, давайте!..\n",
    "\n",
    "Абрикосовая дала обильную желтую пену, и в воздухе запахло парикмахерской. Напившись, литераторы немедленно начали икать, расплатились и уселись на скамейке лицом к пруду и спиной к Бронной.'''\n",
    "\n",
    "eng_txt = '''At the sunset hour of one warm spring day two men were to be seen at\n",
    "Patriarch's Ponds. The first of them--aged about forty, dressed in a greyish\n",
    "summer suit--was short, dark-haired, well-fed and bald. He carried his\n",
    "decorous pork-pie hat by the brim and his neatly shaven face was embellished\n",
    "by black hornrimmed spectacles of preternatural dimensions. The other, a\n",
    "broad-shouldered young man with curly reddish hair and a check cap pushed\n",
    "back to the nape of his neck, was wearing a tartan shirt, chewed white\n",
    "trousers and black sneakers.\n",
    " The first was none other than Mikhail Alexandrovich Berlioz, editor of\n",
    "a highbrow literary magazine and chairman of the management cofnmittee of\n",
    "one of the biggest Moscow literary clubs, known by its abbreviation as\n",
    "massolit; his young companion was the poet Ivan Nikolayich Poniryov who\n",
    "wrote under the pseudonym of Bezdomny.\n",
    " Reaching the shade of the budding lime trees, the two writers went\n",
    "straight to a gaily-painted kiosk labelled'Beer and Minerals'.\n",
    " There was an oddness about that terrible day in May which is worth\n",
    "recording : not only at the kiosk but along the whole avenue parallel to\n",
    "Malaya Bronnaya Street there was not a person to be seen. It was the hour of\n",
    "the day when people feel too exhausted to breathe, when Moscow glows in a\n",
    "dry haze as the sun disappears behind the Sadovaya Boulevard--yet no one had\n",
    "come out for a walk under the limes, no one was sitting on a bench, the\n",
    "avenue was empty.\n",
    " 'A glass of lemonade, please,'said Berlioz.\n",
    " 'There isn't any,'replied the woman in the kiosk. For some reason the\n",
    "request seemed to offend her.\n",
    " 'Got any beer?' enquired Bezdomny in a hoarse voice.\n",
    " 'Beer's being delivered later this evening' said the woman.\n",
    " 'Well what have you got?' asked Berlioz.\n",
    " 'Apricot juice, only it's warm' was the answer.\n",
    " 'All right, let's have some.'\n",
    " The apricot juice produced a rich yellow froth, making the air smell\n",
    "like a hairdresser's. After drinking it the two writers immediately began to\n",
    "hiccup. They paid and sat down on a bench facing the pond, their backs to\n",
    "Bronnaya Street.'''\n",
    "\n",
    "res_rus = tokenize(rus_txt)\n",
    "res_eng = tokenize(eng_txt)\n",
    "print(lexdiv(res_rus), lexdiv(res_eng))"
   ]
  },
  {
   "cell_type": "markdown",
   "id": "778ba4ca-34cc-40bb-98a4-8c4168b0d02e",
   "metadata": {},
   "source": [
    "#### Задача 10. \n",
    "\n",
    "Напишите функцию printmatrix(), которая будет красиво выводить матрицу в печать. "
   ]
  },
  {
   "cell_type": "code",
   "execution_count": 57,
   "id": "9287bd95-72b6-4b39-9dd7-d21179d8fd87",
   "metadata": {},
   "outputs": [
    {
     "name": "stdout",
     "output_type": "stream",
     "text": [
      "13 13 37\n",
      "38 78 22\n",
      "73 82 15\n",
      "83 53 83\n"
     ]
    }
   ],
   "source": [
    "from random import randrange\n",
    "\n",
    "def printmatrix(matr):\n",
    "    for elem in matr:\n",
    "        s = str(elem)\n",
    "        s = s.replace(',', '')\n",
    "        s = s.replace('[', '')\n",
    "        s = s.replace(']', '')\n",
    "        print(s, sep='\\n')\n",
    "\n",
    "n = int(input())\n",
    "m = int(input())\n",
    "\n",
    "M = [[randrange(1, 101) for x in range(n)] for y in range(m)]\n",
    "printmatrix(M)\n"
   ]
  },
  {
   "cell_type": "markdown",
   "id": "920168d6-c19e-4f57-b15e-399d8644ca7d",
   "metadata": {},
   "source": [
    "#### Задача 11. \n",
    "\n",
    "Напишите функцию generate_unitary(), которая будет генерировать единичную матрицу размера n. Единичная матрица - такая, у которой по диагонали стоят единички, а все остальные числа - нолики, например:\n",
    "\n",
    "    1 0 0 0\n",
    "    0 1 0 0\n",
    "    0 0 1 0\n",
    "    0 0 0 1"
   ]
  },
  {
   "cell_type": "code",
   "execution_count": 60,
   "id": "f44be14c-b60a-4f10-a902-069effa4cef6",
   "metadata": {},
   "outputs": [
    {
     "name": "stdout",
     "output_type": "stream",
     "text": [
      "1 0 0 0 0 0 0 0 0 0\n",
      "0 1 0 0 0 0 0 0 0 0\n",
      "0 0 1 0 0 0 0 0 0 0\n",
      "0 0 0 1 0 0 0 0 0 0\n",
      "0 0 0 0 1 0 0 0 0 0\n",
      "0 0 0 0 0 1 0 0 0 0\n",
      "0 0 0 0 0 0 1 0 0 0\n",
      "0 0 0 0 0 0 0 1 0 0\n",
      "0 0 0 0 0 0 0 0 1 0\n",
      "0 0 0 0 0 0 0 0 0 1\n"
     ]
    }
   ],
   "source": [
    "def generate_unitary(n):\n",
    "    M = [[0] * m + [1] + [0] * (n - m - 1) for m in range(n)]\n",
    "    return(printmatrix(M))\n",
    "\n",
    "\n",
    "n = int(input())\n",
    "generate_unitary(n)"
   ]
  }
 ],
 "metadata": {
  "kernelspec": {
   "display_name": "Python 3 (ipykernel)",
   "language": "python",
   "name": "python3"
  },
  "language_info": {
   "codemirror_mode": {
    "name": "ipython",
    "version": 3
   },
   "file_extension": ".py",
   "mimetype": "text/x-python",
   "name": "python",
   "nbconvert_exporter": "python",
   "pygments_lexer": "ipython3",
   "version": "3.9.7"
  }
 },
 "nbformat": 4,
 "nbformat_minor": 5
}
