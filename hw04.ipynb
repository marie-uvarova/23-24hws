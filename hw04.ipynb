{
 "cells": [
  {
   "cell_type": "markdown",
   "id": "6bad6b38-eca0-4cfc-ac6a-2723a3cbb50a",
   "metadata": {},
   "source": [
    "#### Задача 1. \n",
    "\n",
    "Ученики одной школы все знают хотя бы по одному языку. Программа получает число школьников, а потом в цикле for собирает сведения о их языках, н-р:\n",
    "\n",
    "    2\n",
    "    English Bulgarian\n",
    "    English Romanian\n",
    "    \n",
    "Нужно узнать, какие языки знает хотя бы один школьник и какие языки знают все школьники."
   ]
  },
  {
   "cell_type": "code",
   "execution_count": 30,
   "id": "660eafc9-7667-441a-954e-a3617941bdfd",
   "metadata": {},
   "outputs": [
    {
     "name": "stdout",
     "output_type": "stream",
     "text": [
      "{'russian', 'bulgarian', 'english'} {'english'}\n"
     ]
    }
   ],
   "source": [
    "n = int(input())\n",
    "languages1 = {x for x in input().split()}\n",
    "lang_all = set()\n",
    "lang_all = lang_all.union(languages1)\n",
    "for i in range(n - 1):\n",
    "    languages2 = {x for x in input().split()}\n",
    "    lang_all = lang_all.union(languages2)\n",
    "    languages1.intersection_update(languages2)\n",
    "print(lang_all, languages1)\n"
   ]
  },
  {
   "cell_type": "markdown",
   "id": "359818d1-46c4-43c1-b9c6-719cd83c06a7",
   "metadata": {},
   "source": [
    "#### Задача 2. \n",
    "\n",
    "Напишите функцию, которая будет принимать строку, в которой содержится любой текст (положим, русскоязычный), и возвращать список, содержащий только слова (для удаления пунктуации можно воспользоваться punctuation из модуля string, если хочется). Если умеете пользоваться регулярками - можно использовать регулярки. \n",
    "\n",
    "Посчитайте частотный список слов для текста в этой строке. "
   ]
  },
  {
   "cell_type": "code",
   "execution_count": 24,
   "id": "37a6a911-03c9-4fdb-960e-644cfbf55a13",
   "metadata": {},
   "outputs": [
    {
     "name": "stdout",
     "output_type": "stream",
     "text": [
      "[['люблю', 0.14285714285714285], ['я', 0.14285714285714285], ['свою', 0.14285714285714285], ['маму', 0.14285714285714285], ['очень', 0.42857142857142855]]\n"
     ]
    }
   ],
   "source": [
    "from string import punctuation\n",
    "\n",
    "def words(s):\n",
    "    for elem in punctuation:\n",
    "        s = s.replace(elem, '')\n",
    "    s = s.split()\n",
    "\n",
    "    set_s = set(s)\n",
    "    arr = []\n",
    "    s_freq = []\n",
    "    i = 0\n",
    "    for elem in set_s:\n",
    "        s_freq.append([elem, s.count(elem) / len(s)])\n",
    "        i += 1\n",
    "    return s_freq\n",
    "\n",
    "\n",
    "s = input()\n",
    "print(words(s))"
   ]
  },
  {
   "cell_type": "markdown",
   "id": "552bc43b-804b-41d3-a482-35ad54f36e06",
   "metadata": {},
   "source": [
    "#### Задача 3. \n",
    "\n",
    "Положим, у нас есть список со вложенными списками (глубина вложенности может быть какая угодно: это может быть список списков списков...). Напишите функцию, которая будет рекурсивно обходить все элементы в этих списках и посчитает, сколько всего встретилось уникальных элементов. Считаем, что эти элементы - целые числа (вам понадобится проверять type(x) == int). "
   ]
  },
  {
   "cell_type": "code",
   "execution_count": 44,
   "id": "e2059e5b-4491-412f-be9f-ebf3192278d9",
   "metadata": {},
   "outputs": [
    {
     "name": "stdout",
     "output_type": "stream",
     "text": [
      "({0, 1, 2, 67, 3, 3333, -109, -9, 56}, 9)\n"
     ]
    }
   ],
   "source": [
    "def recursive_lists(x, s):\n",
    "    for elem in x:\n",
    "        if type(elem) == int:\n",
    "            s.add(elem)\n",
    "        else:\n",
    "            recursive_lists(elem, s)\n",
    "    return s, len(s)\n",
    "\n",
    "arr = [[[[3, 1], [2, 1], [67]], [-109, 0, 0, 0, 1, 3333]], [1, 56, 1, -9], [[3, 1], [0]]]\n",
    "s = set()\n",
    "print(recursive_lists(arr, s))"
   ]
  },
  {
   "cell_type": "markdown",
   "id": "be46c202-8887-4cdb-a6c2-acd40c86403f",
   "metadata": {},
   "source": [
    "#### Задача 4. \n",
    "\n",
    "Напишите функцию для сложения матриц."
   ]
  },
  {
   "cell_type": "code",
   "execution_count": 4,
   "id": "c5043381-10a6-4562-860c-0ff22d51c0db",
   "metadata": {},
   "outputs": [
    {
     "name": "stdout",
     "output_type": "stream",
     "text": [
      "64 41 84\n",
      "20 26 44\n",
      "17 27 23\n",
      "73 96 86\n",
      "\n",
      "91 50 61\n",
      "48 50 27\n",
      "69 37 44\n",
      "65 29 5\n",
      "\n",
      "155 91 145\n",
      "68 76 71\n",
      "86 64 67\n",
      "138 125 91\n"
     ]
    }
   ],
   "source": [
    "from random import randrange\n",
    "\n",
    "def printmatrix(matr):\n",
    "    for elem in matr:\n",
    "        s = str(elem)\n",
    "        s = s.replace(',', '')\n",
    "        s = s.replace('[', '')\n",
    "        s = s.replace(']', '')\n",
    "        print(s, sep='\\n')\n",
    "\n",
    "def sum_matrix(m1, m2):\n",
    "    for i in range(len(m1)):\n",
    "        for j in range(len(m1[i])):\n",
    "            m1[i][j] += m2[i][j]\n",
    "    return m1\n",
    "            \n",
    "\n",
    "n = int(input())\n",
    "m = int(input())\n",
    "M1 = [[randrange(1, 101) for x in range(n)] for y in range(m)]\n",
    "M2 = [[randrange(1, 101) for x in range(n)] for y in range(m)]\n",
    "printmatrix(M1)\n",
    "print(sep='\\n')\n",
    "printmatrix(M2)\n",
    "print(sep='\\n')\n",
    "printmatrix(sum_matrix(M1, M2))"
   ]
  },
  {
   "cell_type": "markdown",
   "id": "10fcf684-2ee1-4342-9c0a-1c959a473320",
   "metadata": {},
   "source": [
    "#### Задача 5. \n",
    "\n",
    "Напишите функцию для умножения матриц."
   ]
  },
  {
   "cell_type": "code",
   "execution_count": 8,
   "id": "8b95b0a2-93c8-4a76-9795-9702a584aa94",
   "metadata": {},
   "outputs": [
    {
     "name": "stdout",
     "output_type": "stream",
     "text": [
      "4 1\n",
      "2 8\n",
      "7 1\n",
      "2 6\n",
      "30 10\n",
      "30 50\n"
     ]
    }
   ],
   "source": [
    "from random import randrange\n",
    "\n",
    "def mult(l, m, n, M1, M2):\n",
    "    M3 = [[0] * n for x in range(l)]\n",
    "    for i in range(l):\n",
    "        for j in range(n):\n",
    "            for k in range(m):\n",
    "                M3[i][j] += M1[i][k] * M2[k][j]\n",
    "    return M3\n",
    "\n",
    "\n",
    "l = int(input())\n",
    "m = int(input())\n",
    "n = int(input())\n",
    "M1 = [[randrange(1, 10) for x in range(l)] for y in range(m)]\n",
    "M2 = [[randrange(1, 10) for x in range(m)] for y in range(n)]\n",
    "\n",
    "printmatrix(M1)\n",
    "printmatrix(M2)\n",
    "printmatrix(mult(l, m, n, M1, M2))"
   ]
  },
  {
   "cell_type": "markdown",
   "id": "1f145040-6a4e-44e5-a0f0-99d76a8f5413",
   "metadata": {},
   "source": [
    "#### Задача 6. \n",
    "\n",
    "Напишите функцию, которая генерирует [матрицу сдвига](https://ru.wikipedia.org/wiki/%D0%9C%D0%B0%D1%82%D1%80%D0%B8%D1%86%D0%B0_%D1%81%D0%B4%D0%B2%D0%B8%D0%B3%D0%B0). У функции должно быть два параметра: n (размер матрицы) и bias (на сколько столбцов сдвигать)."
   ]
  },
  {
   "cell_type": "code",
   "execution_count": 19,
   "id": "4ba92bad-1317-443f-b737-41ee396c4c7e",
   "metadata": {},
   "outputs": [
    {
     "name": "stdout",
     "output_type": "stream",
     "text": [
      "0 0 0 0 0\n",
      "0 0 0 0 0\n",
      "1 0 0 0 0\n",
      "0 1 0 0 0\n",
      "0 0 1 0 0\n"
     ]
    }
   ],
   "source": [
    "def m_shift(n, bias):\n",
    "    M = [[0] * (m + bias) + [1] + [0] * (n - m - bias - 1) if 0 <= (m + bias) <= n else [0] * n for m in range(n)]\n",
    "    return(printmatrix(M))\n",
    "\n",
    "n = int(input())\n",
    "bias = int(input())\n",
    "m_shift(n, bias)"
   ]
  },
  {
   "cell_type": "markdown",
   "id": "bbe7efcb-ae28-40ad-935e-b7f231207779",
   "metadata": {},
   "source": [
    "#### Задача 7. \n",
    "\n",
    "Напишите функцию transpose(m), которая будет транспонировать матрицу."
   ]
  },
  {
   "cell_type": "code",
   "execution_count": 37,
   "id": "445846ac-fe77-40f3-92cc-d3e5f719a47e",
   "metadata": {},
   "outputs": [
    {
     "name": "stdout",
     "output_type": "stream",
     "text": [
      "8 3 3 9\n",
      "4 4 1 6\n",
      "9 7 4 8\n",
      "3 8 4 4\n",
      "9 9 6 1\n",
      "\n",
      "8 4 9 3 9\n",
      "3 4 7 8 9\n",
      "3 1 4 4 6\n",
      "9 6 8 4 1\n"
     ]
    }
   ],
   "source": [
    "def transpose(m):\n",
    "    M2 = []\n",
    "    for i in range(len(m[0])):\n",
    "        r_to_c = []\n",
    "        for j in range(len(m)):\n",
    "            r_to_c.append(m[j][i])\n",
    "        M2.append(r_to_c)\n",
    "            \n",
    "    return printmatrix(M2)\n",
    "\n",
    "m = int(input())\n",
    "n = int(input())\n",
    "M1 = [[randrange(1, 10) for x in range(m)] for y in range(n)]\n",
    "printmatrix(M1)\n",
    "print(sep='\\n')\n",
    "transpose(M1)"
   ]
  },
  {
   "cell_type": "markdown",
   "id": "5bc74489-65ad-4854-a223-d22b2fd6e64d",
   "metadata": {},
   "source": [
    "#### Задача 8 (\\*). \n",
    "\n",
    "Жизнь. Напишите игру \"Жизнь\". Что это такое - читайте в википедии и здесь: http://www.michurin.net/online-tools/life-game.html \n",
    "\n",
    "Вообще говоря, это не игра в привычном понимании этого слова, а процесс. В простейшем виде достаточно раз в 0.1 секунды выводить на экран обновлённое поле (обновлять консоль можно с помощью команды os.clear('cls'), модуль os. Для macOS может немного отличаться, погуглите). Для рамочек можно использовать специальные символы для рисования рамочек (найдите в таблице unicode). Пробел - пустая клетка, живая клетка может быть обозначена, например, символом '+'. Начальное поле генерируется случайным образом, вероятность появления жизни в клетке при начальной генерации - должна быть настраиваемым параметром. Размеры поля вводит пользователь при запуске программы. Также должна быть возможность в качестве начальной популяции использовать [R-pentomino](http://www.conwaylife.com/wiki/R-pentomino)."
   ]
  },
  {
   "cell_type": "code",
   "execution_count": null,
   "id": "fbd943ec-39aa-4129-9a60-c5b13f43234c",
   "metadata": {},
   "outputs": [],
   "source": [
    "# your code here"
   ]
  },
  {
   "cell_type": "markdown",
   "id": "a52faff1-12e5-4ae9-97d2-698f9862e58a",
   "metadata": {},
   "source": [
    "#### Задача 9. \n",
    "\n",
    "Рекурсивная генерация последовательностей На вход программе задается два числа N и K. Напечатайте все последовательности длины N, на каждом месте в последовательности может стоять любое число от 1 до K, но нигде подряд не стоит двух одинаковых чисел. Программа должна напечатать все такие последовательности в лексикографическом порядке. Каждая последовательность должна быть напечатана на отдельной строке. Числа в последовательности должны разделяться пробелами.\n",
    "\n",
    "Пример входных данных:\n",
    "\n",
    "    4 3\n",
    "\n",
    "Пример выходных данных:\n",
    "\n",
    "    1 2 1 2\n",
    "    1 2 1 3\n",
    "    1 2 3 1\n",
    "    1 2 3 2\n",
    "    1 3 1 2\n",
    "    1 3 1 3\n",
    "    1 3 2 1\n",
    "    1 3 2 3\n",
    "    2 1 2 1\n",
    "    2 1 2 3\n",
    "    2 1 3 1\n",
    "    2 1 3 2\n",
    "    2 3 1 2\n",
    "    2 3 1 3\n",
    "    2 3 2 1\n",
    "    2 3 2 3\n",
    "    3 1 2 1\n",
    "    3 1 2 3\n",
    "    3 1 3 1\n",
    "    3 1 3 2\n",
    "    3 2 1 2\n",
    "    3 2 1 3\n",
    "    3 2 3 1\n",
    "    3 2 3 2"
   ]
  },
  {
   "cell_type": "code",
   "execution_count": 38,
   "id": "6bf0d84f-a7e1-4749-af82-2e7cc0a93a51",
   "metadata": {},
   "outputs": [
    {
     "ename": "",
     "evalue": "",
     "output_type": "error",
     "traceback": [
      "\u001b[1;31mThe Kernel crashed while executing code in the the current cell or a previous cell. Please review the code in the cell(s) to identify a possible cause of the failure. Click <a href='https://aka.ms/vscodeJupyterKernelCrash'>here</a> for more info. View Jupyter <a href='command:jupyter.viewOutput'>log</a> for further details."
     ]
    }
   ],
   "source": []
  }
 ],
 "metadata": {
  "kernelspec": {
   "display_name": "Python 3 (ipykernel)",
   "language": "python",
   "name": "python3"
  },
  "language_info": {
   "codemirror_mode": {
    "name": "ipython",
    "version": 3
   },
   "file_extension": ".py",
   "mimetype": "text/x-python",
   "name": "python",
   "nbconvert_exporter": "python",
   "pygments_lexer": "ipython3",
   "version": "3.9.7"
  }
 },
 "nbformat": 4,
 "nbformat_minor": 5
}
